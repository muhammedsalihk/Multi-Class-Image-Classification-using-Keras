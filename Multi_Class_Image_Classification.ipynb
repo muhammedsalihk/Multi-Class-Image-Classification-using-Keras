{
  "nbformat": 4,
  "nbformat_minor": 0,
  "metadata": {
    "colab": {
      "name": "Multi Class Image Classification.ipynb",
      "provenance": []
    },
    "kernelspec": {
      "name": "python3",
      "display_name": "Python 3"
    },
    "accelerator": "GPU"
  },
  "cells": [
    {
      "cell_type": "markdown",
      "metadata": {
        "id": "kbdZToMPnEBu",
        "colab_type": "text"
      },
      "source": [
        "# Multi Class Image Classification"
      ]
    },
    {
      "cell_type": "markdown",
      "metadata": {
        "id": "Ull5X3NtnPdh",
        "colab_type": "text"
      },
      "source": [
        "In image classification, we train a deep neural network to predict the labels/class of on what the image contains. In this project, we are building a model to classify the objects in the CIFAR-10 dataset which contains 50000 training images from 10 different classes.\n",
        "\n",
        "First let's import the relevant packages and then download the dataset using the Kaggle API."
      ]
    },
    {
      "cell_type": "code",
      "metadata": {
        "id": "sSa8f7CJM3AW",
        "colab_type": "code",
        "colab": {
          "base_uri": "https://localhost:8080/",
          "height": 34
        },
        "outputId": "111e6d24-f136-42c0-b274-7c90ce295952"
      },
      "source": [
        "import os\n",
        "import cv2\n",
        "from numpy import asarray\n",
        "import numpy as np\n",
        "import glob2\n",
        "from random import randint\n",
        "import pandas as pd\n",
        "from shutil import copyfile\n",
        "import random\n",
        "\n",
        "\n",
        "import keras\n",
        "from keras.models import Sequential\n",
        "from keras.layers import Dense, Flatten, Lambda, Input, Concatenate, concatenate, Dropout, Conv2D, MaxPool2D, BatchNormalization, GlobalAveragePooling2D, GlobalMaxPool2D\n",
        "from keras.applications import VGG16\n",
        "from keras.applications.vgg16 import preprocess_input\n",
        "import tensorflow as tf\n",
        "import keras.backend as K\n",
        "import tensorflow_addons as tfa"
      ],
      "execution_count": 1,
      "outputs": [
        {
          "output_type": "stream",
          "text": [
            "Using TensorFlow backend.\n"
          ],
          "name": "stderr"
        }
      ]
    },
    {
      "cell_type": "code",
      "metadata": {
        "id": "zhbyTM7-v5cq",
        "colab_type": "code",
        "colab": {}
      },
      "source": [
        "!mkdir .kaggle"
      ],
      "execution_count": 2,
      "outputs": []
    },
    {
      "cell_type": "code",
      "metadata": {
        "id": "Jn1-V5XYv-td",
        "colab_type": "code",
        "colab": {}
      },
      "source": [
        "from google.colab import files"
      ],
      "execution_count": 3,
      "outputs": []
    },
    {
      "cell_type": "code",
      "metadata": {
        "id": "l5NELPdhwbnl",
        "colab_type": "code",
        "colab": {
          "resources": {
            "http://localhost:8080/nbextensions/google.colab/files.js": {
              "data": "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",
              "ok": true,
              "headers": [
                [
                  "content-type",
                  "application/javascript"
                ]
              ],
              "status": 200,
              "status_text": ""
            }
          },
          "base_uri": "https://localhost:8080/",
          "height": 89
        },
        "outputId": "c03e7897-701a-48fe-8d81-dd413b2c317d"
      },
      "source": [
        "files.upload()"
      ],
      "execution_count": 4,
      "outputs": [
        {
          "output_type": "display_data",
          "data": {
            "text/html": [
              "\n",
              "     <input type=\"file\" id=\"files-fc6a4839-ca1a-4aa4-92a2-0afaeb1aa8a5\" name=\"files[]\" multiple disabled\n",
              "        style=\"border:none\" />\n",
              "     <output id=\"result-fc6a4839-ca1a-4aa4-92a2-0afaeb1aa8a5\">\n",
              "      Upload widget is only available when the cell has been executed in the\n",
              "      current browser session. Please rerun this cell to enable.\n",
              "      </output>\n",
              "      <script src=\"/nbextensions/google.colab/files.js\"></script> "
            ],
            "text/plain": [
              "<IPython.core.display.HTML object>"
            ]
          },
          "metadata": {
            "tags": []
          }
        },
        {
          "output_type": "stream",
          "text": [
            "Saving kaggle.json to kaggle.json\n"
          ],
          "name": "stdout"
        },
        {
          "output_type": "execute_result",
          "data": {
            "text/plain": [
              "{'kaggle.json': b'{\"username\":\"muhammedsalihkgp\",\"key\":\"a40055bd26eab67ac9aea2a2b1d16e5b\"}'}"
            ]
          },
          "metadata": {
            "tags": []
          },
          "execution_count": 4
        }
      ]
    },
    {
      "cell_type": "code",
      "metadata": {
        "id": "VpyA45ijwo0T",
        "colab_type": "code",
        "colab": {}
      },
      "source": [
        "!mkdir ~/.kaggle"
      ],
      "execution_count": 5,
      "outputs": []
    },
    {
      "cell_type": "code",
      "metadata": {
        "id": "BeJ0VoYZw4W6",
        "colab_type": "code",
        "colab": {}
      },
      "source": [
        "!cp kaggle.json ~/.kaggle/"
      ],
      "execution_count": 6,
      "outputs": []
    },
    {
      "cell_type": "code",
      "metadata": {
        "id": "iZkdYSYBx6S3",
        "colab_type": "code",
        "colab": {}
      },
      "source": [
        "!chmod 600 ~/.kaggle/kaggle.json"
      ],
      "execution_count": 7,
      "outputs": []
    },
    {
      "cell_type": "code",
      "metadata": {
        "id": "l9FwdXkTyB0G",
        "colab_type": "code",
        "colab": {
          "base_uri": "https://localhost:8080/",
          "height": 238
        },
        "outputId": "728d3f9d-b3ba-4f31-b8ea-28ff80064f32"
      },
      "source": [
        "!kaggle competitions download -c cifar-10"
      ],
      "execution_count": 8,
      "outputs": [
        {
          "output_type": "stream",
          "text": [
            "Warning: Looks like you're using an outdated API Version, please consider updating (server 1.5.6 / client 1.5.4)\n",
            "Downloading test.7z to /content\n",
            "100% 610M/610M [00:11<00:00, 56.5MB/s]\n",
            "\n",
            "Downloading trainLabels.csv to /content\n",
            "  0% 0.00/575k [00:00<?, ?B/s]\n",
            "100% 575k/575k [00:00<00:00, 36.0MB/s]\n",
            "Downloading train.7z to /content\n",
            " 92% 96.0M/105M [00:02<00:00, 44.3MB/s]\n",
            "100% 105M/105M [00:02<00:00, 41.9MB/s] \n",
            "Downloading sampleSubmission.csv.zip to /content\n",
            "  0% 0.00/655k [00:00<?, ?B/s]\n",
            "100% 655k/655k [00:00<00:00, 204MB/s]\n"
          ],
          "name": "stdout"
        }
      ]
    },
    {
      "cell_type": "markdown",
      "metadata": {
        "id": "j3OkzMdn0D24",
        "colab_type": "text"
      },
      "source": [
        "Let's import the csv file into a pandas data frame."
      ]
    },
    {
      "cell_type": "code",
      "metadata": {
        "id": "hOiogJWH1MFp",
        "colab_type": "code",
        "colab": {}
      },
      "source": [
        "labels_df = pd.read_csv('trainLabels.csv')"
      ],
      "execution_count": 9,
      "outputs": []
    },
    {
      "cell_type": "code",
      "metadata": {
        "id": "x7F7PR-K1RcN",
        "colab_type": "code",
        "colab": {
          "base_uri": "https://localhost:8080/",
          "height": 68
        },
        "outputId": "a912e9e5-31db-492f-a44d-c84385f50487"
      },
      "source": [
        "labels_df.iloc[2500]"
      ],
      "execution_count": 10,
      "outputs": [
        {
          "output_type": "execute_result",
          "data": {
            "text/plain": [
              "id       2501\n",
              "label     dog\n",
              "Name: 2500, dtype: object"
            ]
          },
          "metadata": {
            "tags": []
          },
          "execution_count": 10
        }
      ]
    },
    {
      "cell_type": "markdown",
      "metadata": {
        "id": "dEGwll5mnn4p",
        "colab_type": "text"
      },
      "source": [
        "Now let's create a dictionary from the dataframe with the file name as keys and the corresponding class as its value."
      ]
    },
    {
      "cell_type": "code",
      "metadata": {
        "id": "Sb0JVEErN_Va",
        "colab_type": "code",
        "colab": {}
      },
      "source": [
        "dict_labels = {}\n",
        "\n",
        "for i in range(labels_df.shape[0]):\n",
        "  label = str(labels_df.iloc[i,0]) + '.png'\n",
        "  dict_labels[label] = labels_df.iloc[i,1]"
      ],
      "execution_count": 11,
      "outputs": []
    },
    {
      "cell_type": "code",
      "metadata": {
        "id": "Db19tVf51ZAX",
        "colab_type": "code",
        "colab": {}
      },
      "source": [
        "dataset = list(dict_labels.keys())"
      ],
      "execution_count": 12,
      "outputs": []
    },
    {
      "cell_type": "markdown",
      "metadata": {
        "id": "tUsAhYRPoCDu",
        "colab_type": "text"
      },
      "source": [
        "Now let's split the dataset into train, test and val sets."
      ]
    },
    {
      "cell_type": "code",
      "metadata": {
        "id": "pb0OySQq2PwF",
        "colab_type": "code",
        "colab": {}
      },
      "source": [
        "random.shuffle(dataset)"
      ],
      "execution_count": 13,
      "outputs": []
    },
    {
      "cell_type": "code",
      "metadata": {
        "id": "Qg3jQ4wsQR5x",
        "colab_type": "code",
        "colab": {}
      },
      "source": [
        "n_train = 45000\n",
        "n_val = 2500\n",
        "\n",
        "train_set = dataset[:n_train]\n",
        "val_set = dataset[n_train:n_train+n_val]\n",
        "test_set = dataset[n_train+n_val:]"
      ],
      "execution_count": 14,
      "outputs": []
    },
    {
      "cell_type": "code",
      "metadata": {
        "id": "RTYC5cK9RgPA",
        "colab_type": "code",
        "colab": {
          "base_uri": "https://localhost:8080/",
          "height": 34
        },
        "outputId": "f52f9fd7-89fb-4115-bfc5-6824a1259c2c"
      },
      "source": [
        "print(f'Train - {len(train_set)}, Val - {len(val_set)}, Test - {len(test_set)}')"
      ],
      "execution_count": 15,
      "outputs": [
        {
          "output_type": "stream",
          "text": [
            "Train - 45000, Val - 2500, Test - 2500\n"
          ],
          "name": "stdout"
        }
      ]
    },
    {
      "cell_type": "markdown",
      "metadata": {
        "id": "367StvRjoLCT",
        "colab_type": "text"
      },
      "source": [
        "Now let's extract the images from its compressed format."
      ]
    },
    {
      "cell_type": "code",
      "metadata": {
        "id": "M0S7SxsjRs6n",
        "colab_type": "code",
        "colab": {
          "base_uri": "https://localhost:8080/",
          "height": 187
        },
        "outputId": "14438a42-6159-4ed6-e099-49c226f3f09b"
      },
      "source": [
        "!pip install py7zr\n",
        "!py7zr x train.7z"
      ],
      "execution_count": 16,
      "outputs": [
        {
          "output_type": "stream",
          "text": [
            "Collecting py7zr\n",
            "\u001b[?25l  Downloading https://files.pythonhosted.org/packages/c8/c5/479c21426f2ae1dc5da6ee53143fa262b8ffc78b3ddda2e5cb08c569aa82/py7zr-0.7.4-py3-none-any.whl (60kB)\n",
            "\r\u001b[K     |█████▌                          | 10kB 23.1MB/s eta 0:00:01\r\u001b[K     |███████████                     | 20kB 1.7MB/s eta 0:00:01\r\u001b[K     |████████████████▍               | 30kB 2.2MB/s eta 0:00:01\r\u001b[K     |█████████████████████▉          | 40kB 2.4MB/s eta 0:00:01\r\u001b[K     |███████████████████████████▎    | 51kB 1.9MB/s eta 0:00:01\r\u001b[K     |████████████████████████████████| 61kB 1.8MB/s \n",
            "\u001b[?25hCollecting texttable\n",
            "  Downloading https://files.pythonhosted.org/packages/ec/b1/8a1c659ce288bf771d5b1c7cae318ada466f73bd0e16df8d86f27a2a3ee7/texttable-1.6.2-py2.py3-none-any.whl\n",
            "Collecting pycryptodome\n",
            "\u001b[?25l  Downloading https://files.pythonhosted.org/packages/af/16/da16a22d47bac9bf9db39f3b9af74e8eeed8855c0df96be20b580ef92fff/pycryptodome-3.9.7-cp36-cp36m-manylinux1_x86_64.whl (13.7MB)\n",
            "\u001b[K     |████████████████████████████████| 13.7MB 236kB/s \n",
            "\u001b[?25hInstalling collected packages: texttable, pycryptodome, py7zr\n",
            "Successfully installed py7zr-0.7.4 pycryptodome-3.9.7 texttable-1.6.2\n"
          ],
          "name": "stdout"
        }
      ]
    },
    {
      "cell_type": "markdown",
      "metadata": {
        "id": "Wq04-GPavaqD",
        "colab_type": "text"
      },
      "source": [
        "Now let's arrange the images in the format required for Keras ImageDataGenerator."
      ]
    },
    {
      "cell_type": "code",
      "metadata": {
        "id": "1u1Ugy0nVNDa",
        "colab_type": "code",
        "colab": {}
      },
      "source": [
        "loop_dict = {'train': train_set, 'val': val_set, 'test': test_set}\n",
        "\n",
        "for folder in loop_dict.keys():\n",
        "  for directory in labels_df['label'].unique():\n",
        "    os.makedirs('/content/data/' + folder + '/' + directory)"
      ],
      "execution_count": 17,
      "outputs": []
    },
    {
      "cell_type": "code",
      "metadata": {
        "id": "1bM8RoC4Vk1A",
        "colab_type": "code",
        "colab": {}
      },
      "source": [
        "for folder in loop_dict.keys():\n",
        "  imgs = loop_dict[folder]\n",
        "  for img in imgs:\n",
        "    label_dir = dict_labels[img]\n",
        "    src = \"train/\" + img\n",
        "    dst = \"data/\" + folder + \"/\" + label_dir + \"/\" + img\n",
        "    copyfile(src,dst)"
      ],
      "execution_count": 18,
      "outputs": []
    },
    {
      "cell_type": "markdown",
      "metadata": {
        "id": "WP_qF3AUovwW",
        "colab_type": "text"
      },
      "source": [
        "Let's do a sanity check on whether the image directories are in order."
      ]
    },
    {
      "cell_type": "code",
      "metadata": {
        "id": "WeCWtS5CV0cz",
        "colab_type": "code",
        "colab": {}
      },
      "source": [
        "test_cat = glob2.glob('data/test/cat/*.png')"
      ],
      "execution_count": 19,
      "outputs": []
    },
    {
      "cell_type": "code",
      "metadata": {
        "id": "_eseJt4cw9Rr",
        "colab_type": "code",
        "colab": {
          "base_uri": "https://localhost:8080/",
          "height": 51
        },
        "outputId": "1690061f-8001-4720-83f3-70f3d39e13bb"
      },
      "source": [
        "from PIL import Image\n",
        "\n",
        "image = Image.open(test_cat[75])\n",
        "print(image.size)\n",
        "print(image.mode)"
      ],
      "execution_count": 20,
      "outputs": [
        {
          "output_type": "stream",
          "text": [
            "(32, 32)\n",
            "RGB\n"
          ],
          "name": "stdout"
        }
      ]
    },
    {
      "cell_type": "code",
      "metadata": {
        "id": "kSYbAdRww-fk",
        "colab_type": "code",
        "colab": {
          "base_uri": "https://localhost:8080/",
          "height": 49
        },
        "outputId": "5d0cb274-eb87-4f6d-bf79-2e0f617fa417"
      },
      "source": [
        "display(image)"
      ],
      "execution_count": 21,
      "outputs": [
        {
          "output_type": "display_data",
          "data": {
            "image/png": "[encoded data removed]",
            "text/plain": [
              "<PIL.PngImagePlugin.PngImageFile image mode=RGB size=32x32 at 0x7F3075525128>"
            ]
          },
          "metadata": {
            "tags": []
          }
        }
      ]
    },
    {
      "cell_type": "code",
      "metadata": {
        "id": "EKFuM_6_ZTDn",
        "colab_type": "code",
        "colab": {
          "base_uri": "https://localhost:8080/",
          "height": 34
        },
        "outputId": "520f6965-e165-4689-cab5-1fff894ac318"
      },
      "source": [
        "image_np = np.array(image)\n",
        "image_np.shape"
      ],
      "execution_count": 22,
      "outputs": [
        {
          "output_type": "execute_result",
          "data": {
            "text/plain": [
              "(32, 32, 3)"
            ]
          },
          "metadata": {
            "tags": []
          },
          "execution_count": 22
        }
      ]
    },
    {
      "cell_type": "markdown",
      "metadata": {
        "id": "OMurDoRgpPLp",
        "colab_type": "text"
      },
      "source": [
        "Defining a datagen for the learning process."
      ]
    },
    {
      "cell_type": "code",
      "metadata": {
        "id": "uuN1IkEHVm4N",
        "colab_type": "code",
        "colab": {}
      },
      "source": [
        "datagen = keras.preprocessing.image.ImageDataGenerator(preprocessing_function = preprocess_input)"
      ],
      "execution_count": 23,
      "outputs": []
    },
    {
      "cell_type": "code",
      "metadata": {
        "id": "MiWJnGgXXTQB",
        "colab_type": "code",
        "colab": {
          "base_uri": "https://localhost:8080/",
          "height": 68
        },
        "outputId": "1a0251d3-fee1-440d-9ac8-790ecf7f1744"
      },
      "source": [
        "train_it = datagen.flow_from_directory('data/train/', batch_size=64, target_size = (32,32))\n",
        "val_it = datagen.flow_from_directory('data/val/', batch_size=64, target_size = (32,32))\n",
        "test_it = datagen.flow_from_directory('data/test/', batch_size=64, target_size = (32,32))"
      ],
      "execution_count": 24,
      "outputs": [
        {
          "output_type": "stream",
          "text": [
            "Found 45000 images belonging to 10 classes.\n",
            "Found 2500 images belonging to 10 classes.\n",
            "Found 2500 images belonging to 10 classes.\n"
          ],
          "name": "stdout"
        }
      ]
    },
    {
      "cell_type": "code",
      "metadata": {
        "id": "gPG0BimLX--T",
        "colab_type": "code",
        "colab": {
          "base_uri": "https://localhost:8080/",
          "height": 187
        },
        "outputId": "6a1963e1-d6c6-4890-c90c-61f7f0c4e1c9"
      },
      "source": [
        "train_it.class_indices"
      ],
      "execution_count": 25,
      "outputs": [
        {
          "output_type": "execute_result",
          "data": {
            "text/plain": [
              "{'airplane': 0,\n",
              " 'automobile': 1,\n",
              " 'bird': 2,\n",
              " 'cat': 3,\n",
              " 'deer': 4,\n",
              " 'dog': 5,\n",
              " 'frog': 6,\n",
              " 'horse': 7,\n",
              " 'ship': 8,\n",
              " 'truck': 9}"
            ]
          },
          "metadata": {
            "tags": []
          },
          "execution_count": 25
        }
      ]
    },
    {
      "cell_type": "markdown",
      "metadata": {
        "id": "aSMVr5_d7CZ3",
        "colab_type": "text"
      },
      "source": [
        "Now let's try to use different network architectures for creating a model. First let's create a base model on top of the convolutional layers of a VGG 16 network trained on the imagenet dataset."
      ]
    },
    {
      "cell_type": "code",
      "metadata": {
        "id": "eM3lNvF9YGaF",
        "colab_type": "code",
        "colab": {}
      },
      "source": [
        "def base_network(lr = 0.001):\n",
        " \n",
        "  base = Sequential()\n",
        "  base.add(VGG16(\n",
        "    include_top=False,\n",
        "    pooling='avg',\n",
        "    weights='imagenet',\n",
        "    input_shape = (32,32,3),\n",
        "    ))\n",
        "  base.add(Dense(units=256,activation='relu'))\n",
        "  base.add(Dense(units=64,activation='relu'))\n",
        "  base.add(Dense(units=10,activation='softmax'))\n",
        "  base.layers[0].trainable = False\n",
        "\n",
        "  base.compile(keras.optimizers.Adam(lr), loss = 'categorical_crossentropy', metrics = ['accuracy'])\n",
        "  \n",
        "  return base"
      ],
      "execution_count": 26,
      "outputs": []
    },
    {
      "cell_type": "code",
      "metadata": {
        "id": "mgXa3HK0Yo-G",
        "colab_type": "code",
        "colab": {
          "base_uri": "https://localhost:8080/",
          "height": 51
        },
        "outputId": "a47b1f2c-8bb5-451a-fbe9-b8769d30c70b"
      },
      "source": [
        "model = base_network()"
      ],
      "execution_count": 27,
      "outputs": [
        {
          "output_type": "stream",
          "text": [
            "Downloading data from https://github.com/fchollet/deep-learning-models/releases/download/v0.1/vgg16_weights_tf_dim_ordering_tf_kernels_notop.h5\n",
            "58892288/58889256 [==============================] - 5s 0us/step\n"
          ],
          "name": "stdout"
        }
      ]
    },
    {
      "cell_type": "code",
      "metadata": {
        "id": "0vEFObfhZin_",
        "colab_type": "code",
        "colab": {
          "base_uri": "https://localhost:8080/",
          "height": 833
        },
        "outputId": "30991307-7f47-4753-e442-4467adb7116e"
      },
      "source": [
        "model.layers[0].summary()"
      ],
      "execution_count": 28,
      "outputs": [
        {
          "output_type": "stream",
          "text": [
            "Model: \"vgg16\"\n",
            "_________________________________________________________________\n",
            "Layer (type)                 Output Shape              Param #   \n",
            "=================================================================\n",
            "input_1 (InputLayer)         (None, 32, 32, 3)         0         \n",
            "_________________________________________________________________\n",
            "block1_conv1 (Conv2D)        (None, 32, 32, 64)        1792      \n",
            "_________________________________________________________________\n",
            "block1_conv2 (Conv2D)        (None, 32, 32, 64)        36928     \n",
            "_________________________________________________________________\n",
            "block1_pool (MaxPooling2D)   (None, 16, 16, 64)        0         \n",
            "_________________________________________________________________\n",
            "block2_conv1 (Conv2D)        (None, 16, 16, 128)       73856     \n",
            "_________________________________________________________________\n",
            "block2_conv2 (Conv2D)        (None, 16, 16, 128)       147584    \n",
            "_________________________________________________________________\n",
            "block2_pool (MaxPooling2D)   (None, 8, 8, 128)         0         \n",
            "_________________________________________________________________\n",
            "block3_conv1 (Conv2D)        (None, 8, 8, 256)         295168    \n",
            "_________________________________________________________________\n",
            "block3_conv2 (Conv2D)        (None, 8, 8, 256)         590080    \n",
            "_________________________________________________________________\n",
            "block3_conv3 (Conv2D)        (None, 8, 8, 256)         590080    \n",
            "_________________________________________________________________\n",
            "block3_pool (MaxPooling2D)   (None, 4, 4, 256)         0         \n",
            "_________________________________________________________________\n",
            "block4_conv1 (Conv2D)        (None, 4, 4, 512)         1180160   \n",
            "_________________________________________________________________\n",
            "block4_conv2 (Conv2D)        (None, 4, 4, 512)         2359808   \n",
            "_________________________________________________________________\n",
            "block4_conv3 (Conv2D)        (None, 4, 4, 512)         2359808   \n",
            "_________________________________________________________________\n",
            "block4_pool (MaxPooling2D)   (None, 2, 2, 512)         0         \n",
            "_________________________________________________________________\n",
            "block5_conv1 (Conv2D)        (None, 2, 2, 512)         2359808   \n",
            "_________________________________________________________________\n",
            "block5_conv2 (Conv2D)        (None, 2, 2, 512)         2359808   \n",
            "_________________________________________________________________\n",
            "block5_conv3 (Conv2D)        (None, 2, 2, 512)         2359808   \n",
            "_________________________________________________________________\n",
            "block5_pool (MaxPooling2D)   (None, 1, 1, 512)         0         \n",
            "_________________________________________________________________\n",
            "global_average_pooling2d_1 ( (None, 512)               0         \n",
            "=================================================================\n",
            "Total params: 14,714,688\n",
            "Trainable params: 0\n",
            "Non-trainable params: 14,714,688\n",
            "_________________________________________________________________\n"
          ],
          "name": "stdout"
        }
      ]
    },
    {
      "cell_type": "code",
      "metadata": {
        "id": "d_G3XkUrbd3h",
        "colab_type": "code",
        "colab": {}
      },
      "source": [
        "from keras.callbacks import EarlyStopping\n",
        "\n",
        "usualCallback = EarlyStopping(monitor='val_loss', min_delta=0, patience = 50)"
      ],
      "execution_count": 29,
      "outputs": []
    },
    {
      "cell_type": "code",
      "metadata": {
        "id": "1xAV959HdGWB",
        "colab_type": "code",
        "colab": {
          "base_uri": "https://localhost:8080/",
          "height": 714
        },
        "outputId": "4a9bd032-345c-4613-fa3a-1bc18a843b2d"
      },
      "source": [
        "model.fit(x= train_it, epochs = 20, validation_data = val_it, callbacks=[usualCallback])"
      ],
      "execution_count": 30,
      "outputs": [
        {
          "output_type": "stream",
          "text": [
            "Epoch 1/20\n",
            "704/704 [==============================] - 28s 39ms/step - loss: 1.6423 - accuracy: 0.5374 - val_loss: 1.3534 - val_accuracy: 0.6152\n",
            "Epoch 2/20\n",
            "704/704 [==============================] - 21s 30ms/step - loss: 1.0069 - accuracy: 0.6545 - val_loss: 1.0966 - val_accuracy: 0.6364\n",
            "Epoch 3/20\n",
            "704/704 [==============================] - 21s 30ms/step - loss: 0.8782 - accuracy: 0.6947 - val_loss: 0.7079 - val_accuracy: 0.6484\n",
            "Epoch 4/20\n",
            "704/704 [==============================] - 21s 30ms/step - loss: 0.7899 - accuracy: 0.7254 - val_loss: 0.8330 - val_accuracy: 0.6540\n",
            "Epoch 5/20\n",
            "704/704 [==============================] - 21s 30ms/step - loss: 0.7138 - accuracy: 0.7499 - val_loss: 1.6050 - val_accuracy: 0.6608\n",
            "Epoch 6/20\n",
            "704/704 [==============================] - 21s 30ms/step - loss: 0.6415 - accuracy: 0.7733 - val_loss: 0.6975 - val_accuracy: 0.6424\n",
            "Epoch 7/20\n",
            "704/704 [==============================] - 21s 30ms/step - loss: 0.5750 - accuracy: 0.7975 - val_loss: 1.6991 - val_accuracy: 0.6604\n",
            "Epoch 8/20\n",
            "704/704 [==============================] - 21s 30ms/step - loss: 0.5187 - accuracy: 0.8158 - val_loss: 1.4673 - val_accuracy: 0.6460\n",
            "Epoch 9/20\n",
            "704/704 [==============================] - 21s 30ms/step - loss: 0.4553 - accuracy: 0.8375 - val_loss: 1.2985 - val_accuracy: 0.6412\n",
            "Epoch 10/20\n",
            "704/704 [==============================] - 21s 30ms/step - loss: 0.3941 - accuracy: 0.8600 - val_loss: 1.1287 - val_accuracy: 0.6372\n",
            "Epoch 11/20\n",
            "704/704 [==============================] - 21s 30ms/step - loss: 0.3549 - accuracy: 0.8736 - val_loss: 0.7261 - val_accuracy: 0.6364\n",
            "Epoch 12/20\n",
            "704/704 [==============================] - 21s 30ms/step - loss: 0.3140 - accuracy: 0.8869 - val_loss: 2.1624 - val_accuracy: 0.6332\n",
            "Epoch 13/20\n",
            "704/704 [==============================] - 21s 30ms/step - loss: 0.2877 - accuracy: 0.8978 - val_loss: 0.1966 - val_accuracy: 0.6192\n",
            "Epoch 14/20\n",
            "704/704 [==============================] - 21s 30ms/step - loss: 0.2703 - accuracy: 0.9043 - val_loss: 0.0641 - val_accuracy: 0.6300\n",
            "Epoch 15/20\n",
            "704/704 [==============================] - 21s 30ms/step - loss: 0.2265 - accuracy: 0.9187 - val_loss: 0.3865 - val_accuracy: 0.6316\n",
            "Epoch 16/20\n",
            "704/704 [==============================] - 21s 30ms/step - loss: 0.2080 - accuracy: 0.9262 - val_loss: 1.3532 - val_accuracy: 0.6232\n",
            "Epoch 17/20\n",
            "704/704 [==============================] - 21s 30ms/step - loss: 0.2011 - accuracy: 0.9286 - val_loss: 3.4965 - val_accuracy: 0.6220\n",
            "Epoch 18/20\n",
            "704/704 [==============================] - 21s 30ms/step - loss: 0.1845 - accuracy: 0.9347 - val_loss: 1.1890 - val_accuracy: 0.6184\n",
            "Epoch 19/20\n",
            "704/704 [==============================] - 21s 30ms/step - loss: 0.1761 - accuracy: 0.9389 - val_loss: 3.5931 - val_accuracy: 0.6184\n",
            "Epoch 20/20\n",
            "704/704 [==============================] - 21s 30ms/step - loss: 0.1514 - accuracy: 0.9473 - val_loss: 0.0639 - val_accuracy: 0.6240\n"
          ],
          "name": "stdout"
        },
        {
          "output_type": "execute_result",
          "data": {
            "text/plain": [
              "<keras.callbacks.callbacks.History at 0x7f3073d34240>"
            ]
          },
          "metadata": {
            "tags": []
          },
          "execution_count": 30
        }
      ]
    },
    {
      "cell_type": "markdown",
      "metadata": {
        "id": "TEGnsV4A7PIk",
        "colab_type": "text"
      },
      "source": [
        "We can see that there is no improvement on val_accuracy over the epochs. It indicates that the network is not able to learn properly so that it can generalise on unseen data. Let's allow the model to update the weights of the CNN layers as well.\n",
        "\n",
        "We will add a dropout layer as well."
      ]
    },
    {
      "cell_type": "code",
      "metadata": {
        "id": "vkOayg7vhG_6",
        "colab_type": "code",
        "colab": {}
      },
      "source": [
        "def base_network_dropout(lr = 0.001):\n",
        " \n",
        "  base = Sequential()\n",
        "  base.add(VGG16(\n",
        "    include_top=False,\n",
        "    pooling='avg',\n",
        "    weights='imagenet',\n",
        "    input_shape = (32,32,3),\n",
        "    ))\n",
        "  base.add(Dense(units=256,activation='relu'))\n",
        "  base.add(Dropout(0.2, seed = 3))\n",
        "  base.add(Dense(units=64,activation='relu'))\n",
        "  base.add(Dense(units=10,activation='softmax'))\n",
        "  #base.layers[0].trainable = False\n",
        "\n",
        "  base.compile(keras.optimizers.Adam(lr), loss = 'categorical_crossentropy', metrics = ['accuracy'])\n",
        "  \n",
        "  return base"
      ],
      "execution_count": 31,
      "outputs": []
    },
    {
      "cell_type": "code",
      "metadata": {
        "id": "8O-h7LV6mR4K",
        "colab_type": "code",
        "colab": {
          "base_uri": "https://localhost:8080/",
          "height": 714
        },
        "outputId": "8b9bdae0-0243-4ba9-bc97-cba4362c1b04"
      },
      "source": [
        "model_drop = base_network_dropout()\n",
        "model_drop.fit(x= train_it, epochs = 20, validation_data = val_it, callbacks=[usualCallback])"
      ],
      "execution_count": 32,
      "outputs": [
        {
          "output_type": "stream",
          "text": [
            "Epoch 1/20\n",
            "704/704 [==============================] - 28s 40ms/step - loss: 2.0134 - accuracy: 0.2288 - val_loss: 1.9133 - val_accuracy: 0.3440\n",
            "Epoch 2/20\n",
            "704/704 [==============================] - 27s 38ms/step - loss: 1.4688 - accuracy: 0.4390 - val_loss: 2.6989 - val_accuracy: 0.5264\n",
            "Epoch 3/20\n",
            "704/704 [==============================] - 27s 39ms/step - loss: 1.1247 - accuracy: 0.5922 - val_loss: 0.6087 - val_accuracy: 0.6328\n",
            "Epoch 4/20\n",
            "704/704 [==============================] - 27s 38ms/step - loss: 0.9419 - accuracy: 0.6705 - val_loss: 0.2555 - val_accuracy: 0.6592\n",
            "Epoch 5/20\n",
            "704/704 [==============================] - 27s 38ms/step - loss: 0.8179 - accuracy: 0.7163 - val_loss: 0.3411 - val_accuracy: 0.6920\n",
            "Epoch 6/20\n",
            "704/704 [==============================] - 27s 38ms/step - loss: 0.7242 - accuracy: 0.7533 - val_loss: 0.6119 - val_accuracy: 0.7352\n",
            "Epoch 7/20\n",
            "704/704 [==============================] - 27s 39ms/step - loss: 0.6500 - accuracy: 0.7826 - val_loss: 1.4404 - val_accuracy: 0.7360\n",
            "Epoch 8/20\n",
            "704/704 [==============================] - 27s 38ms/step - loss: 0.6018 - accuracy: 0.8002 - val_loss: 1.2486 - val_accuracy: 0.7700\n",
            "Epoch 9/20\n",
            "704/704 [==============================] - 27s 38ms/step - loss: 0.5580 - accuracy: 0.8173 - val_loss: 0.8373 - val_accuracy: 0.7540\n",
            "Epoch 10/20\n",
            "704/704 [==============================] - 27s 39ms/step - loss: 0.4990 - accuracy: 0.8386 - val_loss: 0.5789 - val_accuracy: 0.7596\n",
            "Epoch 11/20\n",
            "704/704 [==============================] - 27s 38ms/step - loss: 0.4736 - accuracy: 0.8485 - val_loss: 0.1339 - val_accuracy: 0.7800\n",
            "Epoch 12/20\n",
            "704/704 [==============================] - 27s 38ms/step - loss: 0.4368 - accuracy: 0.8592 - val_loss: 1.7501 - val_accuracy: 0.7656\n",
            "Epoch 13/20\n",
            "704/704 [==============================] - 27s 38ms/step - loss: 0.4147 - accuracy: 0.8696 - val_loss: 0.2706 - val_accuracy: 0.7816\n",
            "Epoch 14/20\n",
            "704/704 [==============================] - 27s 38ms/step - loss: 0.4009 - accuracy: 0.8742 - val_loss: 0.6821 - val_accuracy: 0.7576\n",
            "Epoch 15/20\n",
            "704/704 [==============================] - 27s 38ms/step - loss: 0.3739 - accuracy: 0.8832 - val_loss: 0.4674 - val_accuracy: 0.7852\n",
            "Epoch 16/20\n",
            "704/704 [==============================] - 27s 38ms/step - loss: 0.3324 - accuracy: 0.8962 - val_loss: 0.4467 - val_accuracy: 0.7916\n",
            "Epoch 17/20\n",
            "704/704 [==============================] - 27s 38ms/step - loss: 0.3898 - accuracy: 0.8808 - val_loss: 1.8035 - val_accuracy: 0.8088\n",
            "Epoch 18/20\n",
            "704/704 [==============================] - 27s 38ms/step - loss: 0.4835 - accuracy: 0.8481 - val_loss: 0.4955 - val_accuracy: 0.7936\n",
            "Epoch 19/20\n",
            "704/704 [==============================] - 26s 38ms/step - loss: 0.2992 - accuracy: 0.9082 - val_loss: 3.3724 - val_accuracy: 0.8040\n",
            "Epoch 20/20\n",
            "704/704 [==============================] - 27s 38ms/step - loss: 0.2803 - accuracy: 0.9144 - val_loss: 0.9398 - val_accuracy: 0.8028\n"
          ],
          "name": "stdout"
        },
        {
          "output_type": "execute_result",
          "data": {
            "text/plain": [
              "<keras.callbacks.callbacks.History at 0x7f3003195a20>"
            ]
          },
          "metadata": {
            "tags": []
          },
          "execution_count": 32
        }
      ]
    },
    {
      "cell_type": "markdown",
      "metadata": {
        "id": "d6hghr0q85-Q",
        "colab_type": "text"
      },
      "source": [
        "We have got an increased performance. But as we can see, the model has an avoidable bias problem (training accuracy ~ 0.915) and also a high variance problem (i.e. overfitting). Let's try out a more complex network with more FC layers so that the bias problem can be reduced."
      ]
    },
    {
      "cell_type": "code",
      "metadata": {
        "id": "t7fBLBFq2ZOn",
        "colab_type": "code",
        "colab": {
          "base_uri": "https://localhost:8080/",
          "height": 34
        },
        "outputId": "5042d624-f4da-41a4-ba8f-65e135d54a76"
      },
      "source": [
        "datagen_2 = keras.preprocessing.image.ImageDataGenerator(preprocessing_function = preprocess_input)\n",
        "train_it_2 = datagen.flow_from_directory('data/train/', batch_size=256, target_size = (32,32))"
      ],
      "execution_count": 33,
      "outputs": [
        {
          "output_type": "stream",
          "text": [
            "Found 45000 images belonging to 10 classes.\n"
          ],
          "name": "stdout"
        }
      ]
    },
    {
      "cell_type": "code",
      "metadata": {
        "id": "9kkB_q4C6syH",
        "colab_type": "code",
        "colab": {}
      },
      "source": [
        "def base_network_2(lr = 0.001, vgg_pool = 'avg', drop1 = 0, drop2 = 0):\n",
        " \n",
        "  base = Sequential()\n",
        "  base.add(VGG16(\n",
        "    include_top=False,\n",
        "    pooling=vgg_pool,\n",
        "    weights='imagenet',\n",
        "    input_shape = (32,32,3),\n",
        "    ))\n",
        "  base.add(Dense(units=1024,activation='relu'))\n",
        "  base.add(Dense(units=512,activation='relu'))\n",
        "  base.add(Dense(units=256,activation='relu'))\n",
        "  base.add(Dropout(drop1, seed = 3))\n",
        "  base.add(Dense(units=128,activation='relu'))\n",
        "  base.add(Dropout(drop2, seed = 3))\n",
        "  base.add(Dense(units=64,activation='relu'))\n",
        "  base.add(Dense(units=10,activation='softmax'))\n",
        "  #base.layers[0].trainable = False\n",
        "\n",
        "  base.compile(keras.optimizers.Adam(lr), loss = 'categorical_crossentropy', metrics = ['accuracy'])\n",
        "  \n",
        "  return base"
      ],
      "execution_count": 36,
      "outputs": []
    },
    {
      "cell_type": "code",
      "metadata": {
        "id": "ssSBC-RINboP",
        "colab_type": "code",
        "colab": {
          "base_uri": "https://localhost:8080/",
          "height": 714
        },
        "outputId": "f42b7fc2-401c-4e00-8d6c-a999d7b32a87"
      },
      "source": [
        "custom_model_1 = base_network_2(vgg_pool = 'max')\n",
        "custom_model_1.fit(x= train_it_2, epochs = 20, validation_data = val_it, callbacks=[usualCallback])"
      ],
      "execution_count": 37,
      "outputs": [
        {
          "output_type": "stream",
          "text": [
            "Epoch 1/20\n",
            "176/176 [==============================] - 22s 125ms/step - loss: 2.1942 - accuracy: 0.1887 - val_loss: 1.6909 - val_accuracy: 0.2528\n",
            "Epoch 2/20\n",
            "176/176 [==============================] - 21s 117ms/step - loss: 1.7909 - accuracy: 0.2539 - val_loss: 1.5354 - val_accuracy: 0.3080\n",
            "Epoch 3/20\n",
            "176/176 [==============================] - 21s 118ms/step - loss: 1.5019 - accuracy: 0.3973 - val_loss: 1.6785 - val_accuracy: 0.4616\n",
            "Epoch 4/20\n",
            "176/176 [==============================] - 21s 118ms/step - loss: 1.1978 - accuracy: 0.5573 - val_loss: 1.1632 - val_accuracy: 0.6244\n",
            "Epoch 5/20\n",
            "176/176 [==============================] - 21s 118ms/step - loss: 0.9403 - accuracy: 0.6651 - val_loss: 0.3429 - val_accuracy: 0.6876\n",
            "Epoch 6/20\n",
            "176/176 [==============================] - 21s 118ms/step - loss: 0.7970 - accuracy: 0.7211 - val_loss: 1.7821 - val_accuracy: 0.7172\n",
            "Epoch 7/20\n",
            "176/176 [==============================] - 21s 118ms/step - loss: 0.6799 - accuracy: 0.7710 - val_loss: 0.5140 - val_accuracy: 0.7324\n",
            "Epoch 8/20\n",
            "176/176 [==============================] - 21s 117ms/step - loss: 0.5716 - accuracy: 0.8098 - val_loss: 0.0561 - val_accuracy: 0.7616\n",
            "Epoch 9/20\n",
            "176/176 [==============================] - 21s 118ms/step - loss: 0.4890 - accuracy: 0.8397 - val_loss: 0.1126 - val_accuracy: 0.7820\n",
            "Epoch 10/20\n",
            "176/176 [==============================] - 21s 118ms/step - loss: 0.4342 - accuracy: 0.8578 - val_loss: 0.5644 - val_accuracy: 0.7804\n",
            "Epoch 11/20\n",
            "176/176 [==============================] - 21s 118ms/step - loss: 0.5336 - accuracy: 0.8249 - val_loss: 0.7266 - val_accuracy: 0.7460\n",
            "Epoch 12/20\n",
            "176/176 [==============================] - 21s 118ms/step - loss: 0.3872 - accuracy: 0.8763 - val_loss: 0.3559 - val_accuracy: 0.7928\n",
            "Epoch 13/20\n",
            "176/176 [==============================] - 21s 117ms/step - loss: 0.3230 - accuracy: 0.8962 - val_loss: 0.0222 - val_accuracy: 0.7872\n",
            "Epoch 14/20\n",
            "176/176 [==============================] - 21s 118ms/step - loss: 0.2679 - accuracy: 0.9147 - val_loss: 2.5529 - val_accuracy: 0.7968\n",
            "Epoch 15/20\n",
            "176/176 [==============================] - 21s 118ms/step - loss: 0.2408 - accuracy: 0.9227 - val_loss: 0.8675 - val_accuracy: 0.7888\n",
            "Epoch 16/20\n",
            "176/176 [==============================] - 20s 116ms/step - loss: 0.2191 - accuracy: 0.9302 - val_loss: 0.0060 - val_accuracy: 0.7880\n",
            "Epoch 17/20\n",
            "176/176 [==============================] - 21s 117ms/step - loss: 0.2064 - accuracy: 0.9363 - val_loss: 0.9075 - val_accuracy: 0.7868\n",
            "Epoch 18/20\n",
            "176/176 [==============================] - 20s 116ms/step - loss: 0.1651 - accuracy: 0.9494 - val_loss: 0.2344 - val_accuracy: 0.8044\n",
            "Epoch 19/20\n",
            "176/176 [==============================] - 21s 118ms/step - loss: 0.1711 - accuracy: 0.9474 - val_loss: 1.2515 - val_accuracy: 0.7936\n",
            "Epoch 20/20\n",
            "176/176 [==============================] - 20s 116ms/step - loss: 0.1727 - accuracy: 0.9476 - val_loss: 0.0014 - val_accuracy: 0.8060\n"
          ],
          "name": "stdout"
        },
        {
          "output_type": "execute_result",
          "data": {
            "text/plain": [
              "<keras.callbacks.callbacks.History at 0x7f3002c9b898>"
            ]
          },
          "metadata": {
            "tags": []
          },
          "execution_count": 37
        }
      ]
    },
    {
      "cell_type": "markdown",
      "metadata": {
        "id": "aVv1aooiGDvq",
        "colab_type": "text"
      },
      "source": [
        "We have been able to reduce the bias problem by using a more complex network. Now let's see if the variance problem can be tackled using a dropout layer."
      ]
    },
    {
      "cell_type": "code",
      "metadata": {
        "id": "bGFahrt0_EVJ",
        "colab_type": "code",
        "colab": {
          "base_uri": "https://localhost:8080/",
          "height": 714
        },
        "outputId": "339eaf42-96ce-4fcd-b348-37264ccf38e8"
      },
      "source": [
        "custom_model_2 = base_network_2(vgg_pool = 'max', drop1 = 0.05)\n",
        "custom_model_2.fit(x= train_it_2, epochs = 20, validation_data = val_it, callbacks=[usualCallback])"
      ],
      "execution_count": 54,
      "outputs": [
        {
          "output_type": "stream",
          "text": [
            "Epoch 1/20\n",
            "176/176 [==============================] - 22s 124ms/step - loss: 2.2319 - accuracy: 0.1354 - val_loss: 1.6937 - val_accuracy: 0.2312\n",
            "Epoch 2/20\n",
            "176/176 [==============================] - 21s 118ms/step - loss: 1.8469 - accuracy: 0.2431 - val_loss: 1.4609 - val_accuracy: 0.2824\n",
            "Epoch 3/20\n",
            "176/176 [==============================] - 21s 117ms/step - loss: 1.7283 - accuracy: 0.3016 - val_loss: 1.3206 - val_accuracy: 0.3896\n",
            "Epoch 4/20\n",
            "176/176 [==============================] - 21s 119ms/step - loss: 1.4413 - accuracy: 0.4248 - val_loss: 0.9588 - val_accuracy: 0.5084\n",
            "Epoch 5/20\n",
            "176/176 [==============================] - 21s 119ms/step - loss: 1.1784 - accuracy: 0.5654 - val_loss: 2.0199 - val_accuracy: 0.6064\n",
            "Epoch 6/20\n",
            "176/176 [==============================] - 21s 117ms/step - loss: 0.9446 - accuracy: 0.6658 - val_loss: 1.2440 - val_accuracy: 0.6828\n",
            "Epoch 7/20\n",
            "176/176 [==============================] - 21s 118ms/step - loss: 0.8043 - accuracy: 0.7246 - val_loss: 1.5907 - val_accuracy: 0.7060\n",
            "Epoch 8/20\n",
            "176/176 [==============================] - 21s 119ms/step - loss: 0.6827 - accuracy: 0.7695 - val_loss: 1.7792 - val_accuracy: 0.7300\n",
            "Epoch 9/20\n",
            "176/176 [==============================] - 21s 118ms/step - loss: 0.5996 - accuracy: 0.7992 - val_loss: 0.7136 - val_accuracy: 0.7380\n",
            "Epoch 10/20\n",
            "176/176 [==============================] - 21s 118ms/step - loss: 0.5213 - accuracy: 0.8262 - val_loss: 1.4664 - val_accuracy: 0.7768\n",
            "Epoch 11/20\n",
            "176/176 [==============================] - 21s 119ms/step - loss: 0.4526 - accuracy: 0.8497 - val_loss: 1.3212 - val_accuracy: 0.7684\n",
            "Epoch 12/20\n",
            "176/176 [==============================] - 21s 120ms/step - loss: 0.3984 - accuracy: 0.8706 - val_loss: 0.2386 - val_accuracy: 0.7740\n",
            "Epoch 13/20\n",
            "176/176 [==============================] - 22s 123ms/step - loss: 0.3532 - accuracy: 0.8849 - val_loss: 0.0010 - val_accuracy: 0.7504\n",
            "Epoch 14/20\n",
            "176/176 [==============================] - 21s 122ms/step - loss: 0.3302 - accuracy: 0.8941 - val_loss: 0.8060 - val_accuracy: 0.7696\n",
            "Epoch 15/20\n",
            "176/176 [==============================] - 21s 120ms/step - loss: 0.2867 - accuracy: 0.9070 - val_loss: 0.6953 - val_accuracy: 0.7804\n",
            "Epoch 16/20\n",
            "176/176 [==============================] - 21s 120ms/step - loss: 0.2566 - accuracy: 0.9172 - val_loss: 0.8568 - val_accuracy: 0.7808\n",
            "Epoch 17/20\n",
            "176/176 [==============================] - 21s 122ms/step - loss: 0.2457 - accuracy: 0.9237 - val_loss: 0.0716 - val_accuracy: 0.7864\n",
            "Epoch 18/20\n",
            "176/176 [==============================] - 21s 120ms/step - loss: 0.2123 - accuracy: 0.9334 - val_loss: 1.5257 - val_accuracy: 0.7788\n",
            "Epoch 19/20\n",
            "176/176 [==============================] - 21s 120ms/step - loss: 0.2138 - accuracy: 0.9333 - val_loss: 0.7947 - val_accuracy: 0.7864\n",
            "Epoch 20/20\n",
            "176/176 [==============================] - 22s 123ms/step - loss: 0.1886 - accuracy: 0.9407 - val_loss: 0.0897 - val_accuracy: 0.7908\n"
          ],
          "name": "stdout"
        },
        {
          "output_type": "execute_result",
          "data": {
            "text/plain": [
              "<keras.callbacks.callbacks.History at 0x7f2ff8bdfbe0>"
            ]
          },
          "metadata": {
            "tags": []
          },
          "execution_count": 54
        }
      ]
    },
    {
      "cell_type": "markdown",
      "metadata": {
        "id": "h0vxSShGGRne",
        "colab_type": "text"
      },
      "source": [
        "Seems that it hasn't produced the desired effect. Now let's try a network created using VGG19 network and see how it performs."
      ]
    },
    {
      "cell_type": "code",
      "metadata": {
        "id": "Jd1GAwHyWVPY",
        "colab_type": "code",
        "colab": {}
      },
      "source": [
        "from keras.applications import VGG19\n",
        "from keras.applications.vgg19 import preprocess_input as preprocess_input_vgg19\n",
        "\n",
        "def base_network_vgg19(lr = 0.001, vgg_pool = 'avg', drop1 = 0, drop2 = 0):\n",
        " \n",
        "  base = Sequential()\n",
        "  base.add(VGG16(\n",
        "    include_top=False,\n",
        "    pooling=vgg_pool,\n",
        "    weights='imagenet',\n",
        "    input_shape = (32,32,3),\n",
        "    ))\n",
        "  base.add(Dense(units=1024,activation='relu'))\n",
        "  base.add(Dense(units=512,activation='relu'))\n",
        "  base.add(Dense(units=256,activation='relu'))\n",
        "  base.add(Dropout(drop1, seed = 3))\n",
        "  base.add(Dense(units=128,activation='relu'))\n",
        "  base.add(Dropout(drop2, seed = 3))\n",
        "  base.add(Dense(units=64,activation='relu'))\n",
        "  base.add(Dense(units=10,activation='softmax'))\n",
        "  #base.layers[0].trainable = False\n",
        "\n",
        "  base.compile(keras.optimizers.Adam(lr), loss = 'categorical_crossentropy', metrics = ['accuracy'])\n",
        "  \n",
        "  return base"
      ],
      "execution_count": 38,
      "outputs": []
    },
    {
      "cell_type": "code",
      "metadata": {
        "id": "4aO9g6TeW9oE",
        "colab_type": "code",
        "colab": {
          "base_uri": "https://localhost:8080/",
          "height": 68
        },
        "outputId": "071e71d8-370f-4d6f-d1d7-334d86bcc840"
      },
      "source": [
        "datagen_vgg19 = keras.preprocessing.image.ImageDataGenerator(preprocessing_function = preprocess_input_vgg19)\n",
        "\n",
        "train_it_19 = datagen_vgg19.flow_from_directory('data/train/', batch_size=256, target_size = (32,32))\n",
        "val_it_19 = datagen_vgg19.flow_from_directory('data/val/', batch_size=64, target_size = (32,32))\n",
        "test_it_19 = datagen_vgg19.flow_from_directory('data/test/', batch_size=64, target_size = (32,32))"
      ],
      "execution_count": 39,
      "outputs": [
        {
          "output_type": "stream",
          "text": [
            "Found 45000 images belonging to 10 classes.\n",
            "Found 2500 images belonging to 10 classes.\n",
            "Found 2500 images belonging to 10 classes.\n"
          ],
          "name": "stdout"
        }
      ]
    },
    {
      "cell_type": "code",
      "metadata": {
        "id": "BqnEj0IfYfjP",
        "colab_type": "code",
        "colab": {
          "base_uri": "https://localhost:8080/",
          "height": 714
        },
        "outputId": "0f29ac39-f9d8-49f3-c8d5-4b644bae7eb5"
      },
      "source": [
        "custom_model_vgg19_1 = base_network_vgg19(vgg_pool = 'max')\n",
        "custom_model_vgg19_1.fit(x= train_it_19, epochs = 20, validation_data = val_it_19, callbacks=[usualCallback])"
      ],
      "execution_count": 40,
      "outputs": [
        {
          "output_type": "stream",
          "text": [
            "Epoch 1/20\n",
            "176/176 [==============================] - 22s 123ms/step - loss: 2.1483 - accuracy: 0.1609 - val_loss: 2.2659 - val_accuracy: 0.2352\n",
            "Epoch 2/20\n",
            "176/176 [==============================] - 21s 117ms/step - loss: 1.8068 - accuracy: 0.2687 - val_loss: 1.5193 - val_accuracy: 0.3536\n",
            "Epoch 3/20\n",
            "176/176 [==============================] - 21s 118ms/step - loss: 1.5027 - accuracy: 0.4127 - val_loss: 0.9426 - val_accuracy: 0.4580\n",
            "Epoch 4/20\n",
            "176/176 [==============================] - 21s 119ms/step - loss: 1.2336 - accuracy: 0.5318 - val_loss: 0.3718 - val_accuracy: 0.5540\n",
            "Epoch 5/20\n",
            "176/176 [==============================] - 21s 117ms/step - loss: 1.0128 - accuracy: 0.6296 - val_loss: 1.3822 - val_accuracy: 0.6632\n",
            "Epoch 6/20\n",
            "176/176 [==============================] - 21s 117ms/step - loss: 0.8702 - accuracy: 0.6935 - val_loss: 1.9157 - val_accuracy: 0.6980\n",
            "Epoch 7/20\n",
            "176/176 [==============================] - 21s 118ms/step - loss: 0.7188 - accuracy: 0.7555 - val_loss: 0.1694 - val_accuracy: 0.7152\n",
            "Epoch 8/20\n",
            "176/176 [==============================] - 21s 117ms/step - loss: 0.6087 - accuracy: 0.7930 - val_loss: 1.4981 - val_accuracy: 0.7332\n",
            "Epoch 9/20\n",
            "176/176 [==============================] - 21s 119ms/step - loss: 0.5431 - accuracy: 0.8180 - val_loss: 1.2911 - val_accuracy: 0.7748\n",
            "Epoch 10/20\n",
            "176/176 [==============================] - 21s 118ms/step - loss: 0.4579 - accuracy: 0.8481 - val_loss: 0.4350 - val_accuracy: 0.7672\n",
            "Epoch 11/20\n",
            "176/176 [==============================] - 21s 118ms/step - loss: 0.3999 - accuracy: 0.8672 - val_loss: 1.4242 - val_accuracy: 0.7672\n",
            "Epoch 12/20\n",
            "176/176 [==============================] - 21s 117ms/step - loss: 0.3494 - accuracy: 0.8851 - val_loss: 0.1341 - val_accuracy: 0.8000\n",
            "Epoch 13/20\n",
            "176/176 [==============================] - 21s 118ms/step - loss: 0.2977 - accuracy: 0.9012 - val_loss: 1.6655 - val_accuracy: 0.7828\n",
            "Epoch 14/20\n",
            "176/176 [==============================] - 21s 117ms/step - loss: 0.2783 - accuracy: 0.9090 - val_loss: 1.3001 - val_accuracy: 0.7952\n",
            "Epoch 15/20\n",
            "176/176 [==============================] - 21s 117ms/step - loss: 0.2535 - accuracy: 0.9178 - val_loss: 0.2161 - val_accuracy: 0.7944\n",
            "Epoch 16/20\n",
            "176/176 [==============================] - 21s 118ms/step - loss: 0.2207 - accuracy: 0.9276 - val_loss: 0.1455 - val_accuracy: 0.7924\n",
            "Epoch 17/20\n",
            "176/176 [==============================] - 21s 118ms/step - loss: 0.1969 - accuracy: 0.9357 - val_loss: 0.0804 - val_accuracy: 0.7928\n",
            "Epoch 18/20\n",
            "176/176 [==============================] - 21s 117ms/step - loss: 0.1968 - accuracy: 0.9383 - val_loss: 0.2201 - val_accuracy: 0.7832\n",
            "Epoch 19/20\n",
            "176/176 [==============================] - 21s 117ms/step - loss: 0.1696 - accuracy: 0.9458 - val_loss: 1.2056 - val_accuracy: 0.7860\n",
            "Epoch 20/20\n",
            "176/176 [==============================] - 21s 117ms/step - loss: 0.1471 - accuracy: 0.9539 - val_loss: 0.9249 - val_accuracy: 0.7924\n"
          ],
          "name": "stdout"
        },
        {
          "output_type": "execute_result",
          "data": {
            "text/plain": [
              "<keras.callbacks.callbacks.History at 0x7f2ffbf6e438>"
            ]
          },
          "metadata": {
            "tags": []
          },
          "execution_count": 40
        }
      ]
    },
    {
      "cell_type": "markdown",
      "metadata": {
        "id": "PEzJTBWUGg-A",
        "colab_type": "text"
      },
      "source": [
        "Seems that the performance is similar to the VGG16 network. Now let's try a VGG16 network with a few more FC layers and see how it will perform."
      ]
    },
    {
      "cell_type": "code",
      "metadata": {
        "id": "w5tNva1x-WTP",
        "colab_type": "code",
        "colab": {}
      },
      "source": [
        "def base_network_3(lr = 0.001, vgg_pool = 'avg', drop1 = 0, drop2 = 0):\n",
        " \n",
        "  base = Sequential()\n",
        "  base.add(VGG16(\n",
        "    include_top=False,\n",
        "    pooling=vgg_pool,\n",
        "    weights='imagenet',\n",
        "    input_shape = (32,32,3),\n",
        "    ))\n",
        "  base.add(Dense(units=1024,activation='relu'))\n",
        "  base.add(Dense(units=512,activation='relu'))\n",
        "  base.add(Dense(units=256,activation='relu'))\n",
        "  base.add(Dropout(drop1, seed = 3))\n",
        "  base.add(Dense(units=128,activation='relu'))\n",
        "  base.add(Dropout(drop2, seed = 3))\n",
        "  base.add(Dense(units=64,activation='relu'))\n",
        "  base.add(Dense(units=32,activation='relu'))\n",
        "  base.add(Dense(units=10,activation='softmax'))\n",
        "  #base.layers[0].trainable = False\n",
        "\n",
        "  base.compile(keras.optimizers.Adam(lr), loss = 'categorical_crossentropy', metrics = ['accuracy'])\n",
        "  \n",
        "  return base"
      ],
      "execution_count": 41,
      "outputs": []
    },
    {
      "cell_type": "code",
      "metadata": {
        "id": "Erefdb18AwVR",
        "colab_type": "code",
        "colab": {
          "base_uri": "https://localhost:8080/",
          "height": 714
        },
        "outputId": "0edf7212-9b43-4a1c-c223-b6ba02d64a26"
      },
      "source": [
        "custom_model_3 = base_network_3(vgg_pool = 'max')\n",
        "custom_model_3.fit(x= train_it_2, epochs = 20, validation_data = val_it, callbacks=[usualCallback])"
      ],
      "execution_count": 55,
      "outputs": [
        {
          "output_type": "stream",
          "text": [
            "Epoch 1/20\n",
            "176/176 [==============================] - 22s 126ms/step - loss: 2.0981 - accuracy: 0.1650 - val_loss: 1.7745 - val_accuracy: 0.2328\n",
            "Epoch 2/20\n",
            "176/176 [==============================] - 21s 120ms/step - loss: 1.7948 - accuracy: 0.2560 - val_loss: 1.5261 - val_accuracy: 0.3008\n",
            "Epoch 3/20\n",
            "176/176 [==============================] - 21s 122ms/step - loss: 1.5549 - accuracy: 0.3657 - val_loss: 1.5403 - val_accuracy: 0.4408\n",
            "Epoch 4/20\n",
            "176/176 [==============================] - 21s 119ms/step - loss: 1.2456 - accuracy: 0.5143 - val_loss: 1.3583 - val_accuracy: 0.5656\n",
            "Epoch 5/20\n",
            "176/176 [==============================] - 21s 119ms/step - loss: 1.0198 - accuracy: 0.6164 - val_loss: 1.3184 - val_accuracy: 0.6292\n",
            "Epoch 6/20\n",
            "176/176 [==============================] - 21s 120ms/step - loss: 0.8178 - accuracy: 0.7107 - val_loss: 0.1017 - val_accuracy: 0.7220\n",
            "Epoch 7/20\n",
            "176/176 [==============================] - 21s 121ms/step - loss: 0.6986 - accuracy: 0.7622 - val_loss: 0.9752 - val_accuracy: 0.7448\n",
            "Epoch 8/20\n",
            "176/176 [==============================] - 22s 123ms/step - loss: 0.6022 - accuracy: 0.7989 - val_loss: 0.0694 - val_accuracy: 0.7376\n",
            "Epoch 9/20\n",
            "176/176 [==============================] - 22s 123ms/step - loss: 0.5178 - accuracy: 0.8279 - val_loss: 0.9475 - val_accuracy: 0.7664\n",
            "Epoch 10/20\n",
            "176/176 [==============================] - 21s 121ms/step - loss: 0.4497 - accuracy: 0.8519 - val_loss: 0.0277 - val_accuracy: 0.7752\n",
            "Epoch 11/20\n",
            "176/176 [==============================] - 21s 121ms/step - loss: 0.3912 - accuracy: 0.8722 - val_loss: 1.0006 - val_accuracy: 0.7648\n",
            "Epoch 12/20\n",
            "176/176 [==============================] - 21s 121ms/step - loss: 0.3372 - accuracy: 0.8909 - val_loss: 0.1283 - val_accuracy: 0.7836\n",
            "Epoch 13/20\n",
            "176/176 [==============================] - 21s 121ms/step - loss: 0.3088 - accuracy: 0.9020 - val_loss: 0.5005 - val_accuracy: 0.7724\n",
            "Epoch 14/20\n",
            "176/176 [==============================] - 21s 121ms/step - loss: 0.2991 - accuracy: 0.9064 - val_loss: 0.1969 - val_accuracy: 0.7968\n",
            "Epoch 15/20\n",
            "176/176 [==============================] - 21s 120ms/step - loss: 0.2404 - accuracy: 0.9231 - val_loss: 0.3834 - val_accuracy: 0.7952\n",
            "Epoch 16/20\n",
            "176/176 [==============================] - 21s 119ms/step - loss: 0.2392 - accuracy: 0.9262 - val_loss: 9.3642e-04 - val_accuracy: 0.7652\n",
            "Epoch 17/20\n",
            "176/176 [==============================] - 21s 120ms/step - loss: 0.2300 - accuracy: 0.9294 - val_loss: 1.3296 - val_accuracy: 0.7872\n",
            "Epoch 18/20\n",
            "176/176 [==============================] - 21s 120ms/step - loss: 0.1946 - accuracy: 0.9407 - val_loss: 0.0072 - val_accuracy: 0.7956\n",
            "Epoch 19/20\n",
            "176/176 [==============================] - 21s 120ms/step - loss: 0.1940 - accuracy: 0.9409 - val_loss: 0.1708 - val_accuracy: 0.7900\n",
            "Epoch 20/20\n",
            "176/176 [==============================] - 21s 120ms/step - loss: 0.3672 - accuracy: 0.8953 - val_loss: 0.2157 - val_accuracy: 0.7928\n"
          ],
          "name": "stdout"
        },
        {
          "output_type": "execute_result",
          "data": {
            "text/plain": [
              "<keras.callbacks.callbacks.History at 0x7f2ff84cd710>"
            ]
          },
          "metadata": {
            "tags": []
          },
          "execution_count": 55
        }
      ]
    },
    {
      "cell_type": "markdown",
      "metadata": {
        "id": "-aP_MQ5iIdNX",
        "colab_type": "text"
      },
      "source": [
        "Let's add a dropout layer to the deeper network and see hoe much it can help in tackling the high variance problem."
      ]
    },
    {
      "cell_type": "code",
      "metadata": {
        "id": "pZjmnhlyId5J",
        "colab_type": "code",
        "colab": {
          "base_uri": "https://localhost:8080/",
          "height": 714
        },
        "outputId": "835a8e68-63b0-455d-9d14-b5e1a17f5d65"
      },
      "source": [
        "custom_model_4 = base_network_3(vgg_pool = 'max', drop2 = 0.1)\n",
        "custom_model_4.fit(x= train_it_2, epochs = 20, validation_data = val_it, callbacks=[usualCallback])"
      ],
      "execution_count": 56,
      "outputs": [
        {
          "output_type": "stream",
          "text": [
            "Epoch 1/20\n",
            "176/176 [==============================] - 23s 128ms/step - loss: 2.2590 - accuracy: 0.1264 - val_loss: 1.8756 - val_accuracy: 0.1996\n",
            "Epoch 2/20\n",
            "176/176 [==============================] - 21s 120ms/step - loss: 1.8561 - accuracy: 0.2285 - val_loss: 1.5060 - val_accuracy: 0.2752\n",
            "Epoch 3/20\n",
            "176/176 [==============================] - 22s 123ms/step - loss: 1.6694 - accuracy: 0.3229 - val_loss: 1.6748 - val_accuracy: 0.3512\n",
            "Epoch 4/20\n",
            "176/176 [==============================] - 21s 120ms/step - loss: 1.4853 - accuracy: 0.3954 - val_loss: 0.9958 - val_accuracy: 0.4456\n",
            "Epoch 5/20\n",
            "176/176 [==============================] - 21s 121ms/step - loss: 1.2499 - accuracy: 0.5089 - val_loss: 1.5155 - val_accuracy: 0.5168\n",
            "Epoch 6/20\n",
            "176/176 [==============================] - 21s 122ms/step - loss: 1.1378 - accuracy: 0.5676 - val_loss: 0.4623 - val_accuracy: 0.5572\n",
            "Epoch 7/20\n",
            "176/176 [==============================] - 21s 121ms/step - loss: 0.9693 - accuracy: 0.6474 - val_loss: 0.9548 - val_accuracy: 0.6496\n",
            "Epoch 8/20\n",
            "176/176 [==============================] - 21s 120ms/step - loss: 0.8104 - accuracy: 0.7181 - val_loss: 0.6994 - val_accuracy: 0.7048\n",
            "Epoch 9/20\n",
            "176/176 [==============================] - 21s 121ms/step - loss: 0.7100 - accuracy: 0.7554 - val_loss: 0.2625 - val_accuracy: 0.7172\n",
            "Epoch 10/20\n",
            "176/176 [==============================] - 21s 121ms/step - loss: 0.6125 - accuracy: 0.7925 - val_loss: 1.2783 - val_accuracy: 0.7424\n",
            "Epoch 11/20\n",
            "176/176 [==============================] - 21s 122ms/step - loss: 0.5348 - accuracy: 0.8216 - val_loss: 0.5348 - val_accuracy: 0.7576\n",
            "Epoch 12/20\n",
            "176/176 [==============================] - 21s 120ms/step - loss: 0.4858 - accuracy: 0.8391 - val_loss: 0.4175 - val_accuracy: 0.7576\n",
            "Epoch 13/20\n",
            "176/176 [==============================] - 21s 121ms/step - loss: 0.4242 - accuracy: 0.8606 - val_loss: 0.9353 - val_accuracy: 0.7704\n",
            "Epoch 14/20\n",
            "176/176 [==============================] - 21s 120ms/step - loss: 0.3578 - accuracy: 0.8840 - val_loss: 0.8005 - val_accuracy: 0.7760\n",
            "Epoch 15/20\n",
            "176/176 [==============================] - 21s 119ms/step - loss: 0.3191 - accuracy: 0.8962 - val_loss: 0.0410 - val_accuracy: 0.7880\n",
            "Epoch 16/20\n",
            "176/176 [==============================] - 21s 121ms/step - loss: 0.3000 - accuracy: 0.9019 - val_loss: 0.4303 - val_accuracy: 0.7624\n",
            "Epoch 17/20\n",
            "176/176 [==============================] - 21s 121ms/step - loss: 0.2730 - accuracy: 0.9133 - val_loss: 1.4118 - val_accuracy: 0.7756\n",
            "Epoch 18/20\n",
            "176/176 [==============================] - 21s 122ms/step - loss: 0.2433 - accuracy: 0.9242 - val_loss: 1.0639 - val_accuracy: 0.7792\n",
            "Epoch 19/20\n",
            "176/176 [==============================] - 21s 121ms/step - loss: 0.2214 - accuracy: 0.9298 - val_loss: 2.4975 - val_accuracy: 0.7848\n",
            "Epoch 20/20\n",
            "176/176 [==============================] - 21s 121ms/step - loss: 0.2001 - accuracy: 0.9384 - val_loss: 8.5765e-04 - val_accuracy: 0.7932\n"
          ],
          "name": "stdout"
        },
        {
          "output_type": "execute_result",
          "data": {
            "text/plain": [
              "<keras.callbacks.callbacks.History at 0x7f2ff7786ba8>"
            ]
          },
          "metadata": {
            "tags": []
          },
          "execution_count": 56
        }
      ]
    },
    {
      "cell_type": "markdown",
      "metadata": {
        "id": "jTfOE98YKNUC",
        "colab_type": "text"
      },
      "source": [
        "Now let's see how the different models that we have built until now performs on the test set."
      ]
    },
    {
      "cell_type": "code",
      "metadata": {
        "id": "T0L4xt2g3Yxm",
        "colab_type": "code",
        "colab": {
          "base_uri": "https://localhost:8080/",
          "height": 136
        },
        "outputId": "e149aa78-320d-4522-c5fb-a8f106e88992"
      },
      "source": [
        "test_scores = {}\n",
        "test_scores['model'] = model.evaluate(x = test_it)[1]\n",
        "test_scores['model_drop'] = model_drop.evaluate(x = test_it)[1]\n",
        "test_scores['custom_model_1'] = custom_model_1.evaluate(x = test_it)[1]\n",
        "test_scores['custom_model_2'] = custom_model_2.evaluate(x = test_it)[1]\n",
        "test_scores['custom_model_3'] = custom_model_3.evaluate(x = test_it)[1]\n",
        "test_scores['custom_model_4'] = custom_model_4.evaluate(x = test_it)[1]\n",
        "test_scores['custom_model_vgg19_1'] = custom_model_vgg19_1.evaluate(x = test_it)[1]"
      ],
      "execution_count": 57,
      "outputs": [
        {
          "output_type": "stream",
          "text": [
            "40/40 [==============================] - 1s 26ms/step\n",
            "40/40 [==============================] - 1s 26ms/step\n",
            "40/40 [==============================] - 1s 26ms/step\n",
            "40/40 [==============================] - 1s 27ms/step\n",
            "40/40 [==============================] - 1s 27ms/step\n",
            "40/40 [==============================] - 1s 26ms/step\n",
            "40/40 [==============================] - 1s 26ms/step\n"
          ],
          "name": "stdout"
        }
      ]
    },
    {
      "cell_type": "code",
      "metadata": {
        "id": "Yxt6FgRl6iz2",
        "colab_type": "code",
        "colab": {
          "base_uri": "https://localhost:8080/",
          "height": 136
        },
        "outputId": "a92bfa13-be8e-4a8f-a39b-72b3570ce408"
      },
      "source": [
        "test_scores"
      ],
      "execution_count": 58,
      "outputs": [
        {
          "output_type": "execute_result",
          "data": {
            "text/plain": [
              "{'custom_model_1': 0.823199987411499,\n",
              " 'custom_model_2': 0.8108000159263611,\n",
              " 'custom_model_3': 0.8019999861717224,\n",
              " 'custom_model_4': 0.7979999780654907,\n",
              " 'custom_model_vgg19_1': 0.7968000173568726,\n",
              " 'model': 0.6295999884605408,\n",
              " 'model_drop': 0.8019999861717224}"
            ]
          },
          "metadata": {
            "tags": []
          },
          "execution_count": 58
        }
      ]
    },
    {
      "cell_type": "markdown",
      "metadata": {
        "id": "CIuY3gjb6k-k",
        "colab_type": "text"
      },
      "source": [
        "We see that custom_model_1 performs the best on the test set and gives an accuracy score of ~0.823"
      ]
    },
    {
      "cell_type": "code",
      "metadata": {
        "id": "QTjfOgIkKt74",
        "colab_type": "code",
        "colab": {
          "base_uri": "https://localhost:8080/",
          "height": 1000
        },
        "outputId": "256c8e56-5507-4113-9108-cb24bf1b1943"
      },
      "source": [
        "from keras.utils.vis_utils import plot_model\n",
        "plot_model(custom_model_1, to_file='model_plot.png', show_shapes=True, show_layer_names=True)"
      ],
      "execution_count": 59,
      "outputs": [
        {
          "output_type": "execute_result",
          "data": {
            "image/png": "[encoded data removed]",
            "text/plain": [
              "<IPython.core.display.Image object>"
            ]
          },
          "metadata": {
            "tags": []
          },
          "execution_count": 59
        }
      ]
    }
  ]
}